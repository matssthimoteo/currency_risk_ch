{
 "cells": [
  {
   "cell_type": "markdown",
   "metadata": {},
   "source": [
    "# Currency risks for Swiss residents\n"
   ]
  },
  {
   "cell_type": "markdown",
   "metadata": {},
   "source": [
    "## CMD: A Short Summary\n",
    "\n",
    "If one wants to easily replicate the main findings of this paper, they might execute the command lines below (from the root folder). Later, we'll explore each part in further detail and explore the more nuanced analysis allowed by our implementations."
   ]
  },
  {
   "cell_type": "code",
   "execution_count": null,
   "metadata": {
    "vscode": {
     "languageId": "bat"
    }
   },
   "outputs": [],
   "source": [
    ":: Setup\n",
    "setup.bat\n",
    "\n",
    ":: Data retrieval and processing\n",
    "python src/data/fred_data_retrieval.py\n",
    "python src/data/oecd_data_retrieval.py\n",
    "python src/data/fred_oecd_data_concatenation.py\n",
    "\n",
    ":: Analysis, modeling and reporting\n",
    "Rscript src/models/CODE_FAMA_CURRENCY.R\n",
    "python src/analysis/performances.py\n",
    "\n",
    ":: LaTeX files compiling"
   ]
  },
  {
   "cell_type": "markdown",
   "metadata": {},
   "source": [
    "## Data retrieval\n",
    "\n",
    "We use FRED to gather ForEx and VIX monthly data through FRED's API. We additionally gather German and Italian 10y-bond yields.\n",
    "\n",
    "We obtain short-term interest rates through an html request to the OECD database.\n",
    "\n",
    "CAUTION: OECD data for Japan (JPY) is available only since April 2002. Thus, it's not recommended to use a start previous to this one.\n",
    "\n",
    "### FRED"
   ]
  },
  {
   "cell_type": "code",
   "execution_count": 24,
   "metadata": {},
   "outputs": [],
   "source": [
    "import pandas as pd\n",
    "import src.data.fred_data_retrieval as fred\n",
    "\n",
    "# Define a time horizon\n",
    "start_date = pd.Timestamp('2002-04-01')\n",
    "end_date = pd.Timestamp('2023-10-31')\n",
    "\n",
    "# Enter FRED API key\n",
    "api_key = '41641234dac871704cd09b2b8dd163ac'\n",
    "\n",
    "# Call to download function\n",
    "fred.download(start_date=start_date,\n",
    "              end_date=end_date,\n",
    "              api_key=api_key)\n"
   ]
  },
  {
   "cell_type": "markdown",
   "metadata": {},
   "source": [
    "### OECD"
   ]
  },
  {
   "cell_type": "code",
   "execution_count": null,
   "metadata": {},
   "outputs": [],
   "source": [
    "import src.data.oecd_data_retrieval as oecd\n",
    "\n",
    "oecd.download(start_date=start_date,\n",
    "              end_date=end_date)"
   ]
  },
  {
   "cell_type": "markdown",
   "metadata": {},
   "source": [
    "### Merge"
   ]
  },
  {
   "cell_type": "code",
   "execution_count": 26,
   "metadata": {},
   "outputs": [],
   "source": [
    "import src.data.fred_oecd_data_concatenation as merge\n",
    "merge.merge()"
   ]
  },
  {
   "cell_type": "markdown",
   "metadata": {},
   "source": [
    "### Load data\n",
    "\n",
    "Now, we'll open the downloaded monthly data at a pandas Data Frame:"
   ]
  },
  {
   "cell_type": "code",
   "execution_count": 29,
   "metadata": {},
   "outputs": [
    {
     "data": {
      "text/html": [
       "<div>\n",
       "<style scoped>\n",
       "    .dataframe tbody tr th:only-of-type {\n",
       "        vertical-align: middle;\n",
       "    }\n",
       "\n",
       "    .dataframe tbody tr th {\n",
       "        vertical-align: top;\n",
       "    }\n",
       "\n",
       "    .dataframe thead th {\n",
       "        text-align: right;\n",
       "    }\n",
       "</style>\n",
       "<table border=\"1\" class=\"dataframe\">\n",
       "  <thead>\n",
       "    <tr style=\"text-align: right;\">\n",
       "      <th></th>\n",
       "      <th>USD</th>\n",
       "      <th>GBP</th>\n",
       "      <th>EUR</th>\n",
       "      <th>VIX</th>\n",
       "      <th>USDi</th>\n",
       "      <th>GBPi</th>\n",
       "      <th>EURi</th>\n",
       "    </tr>\n",
       "    <tr>\n",
       "      <th>Date</th>\n",
       "      <th></th>\n",
       "      <th></th>\n",
       "      <th></th>\n",
       "      <th></th>\n",
       "      <th></th>\n",
       "      <th></th>\n",
       "      <th></th>\n",
       "    </tr>\n",
       "  </thead>\n",
       "  <tbody>\n",
       "    <tr>\n",
       "      <th>2002-04-30</th>\n",
       "      <td>1.6216</td>\n",
       "      <td>2.361860</td>\n",
       "      <td>1.459764</td>\n",
       "      <td>21.91</td>\n",
       "      <td>1.87</td>\n",
       "      <td>4.17319</td>\n",
       "      <td>3.4069</td>\n",
       "    </tr>\n",
       "    <tr>\n",
       "      <th>2002-05-31</th>\n",
       "      <td>1.5693</td>\n",
       "      <td>2.295101</td>\n",
       "      <td>1.465569</td>\n",
       "      <td>19.98</td>\n",
       "      <td>1.82</td>\n",
       "      <td>4.15370</td>\n",
       "      <td>3.4671</td>\n",
       "    </tr>\n",
       "    <tr>\n",
       "      <th>2002-06-30</th>\n",
       "      <td>1.4920</td>\n",
       "      <td>2.274554</td>\n",
       "      <td>1.470515</td>\n",
       "      <td>25.40</td>\n",
       "      <td>1.81</td>\n",
       "      <td>4.17758</td>\n",
       "      <td>3.4640</td>\n",
       "    </tr>\n",
       "    <tr>\n",
       "      <th>2002-07-31</th>\n",
       "      <td>1.4833</td>\n",
       "      <td>2.317656</td>\n",
       "      <td>1.453041</td>\n",
       "      <td>32.03</td>\n",
       "      <td>1.79</td>\n",
       "      <td>4.06054</td>\n",
       "      <td>3.4100</td>\n",
       "    </tr>\n",
       "    <tr>\n",
       "      <th>2002-08-31</th>\n",
       "      <td>1.5007</td>\n",
       "      <td>2.322483</td>\n",
       "      <td>1.471586</td>\n",
       "      <td>32.64</td>\n",
       "      <td>1.73</td>\n",
       "      <td>3.98654</td>\n",
       "      <td>3.3519</td>\n",
       "    </tr>\n",
       "    <tr>\n",
       "      <th>2002-09-30</th>\n",
       "      <td>1.4758</td>\n",
       "      <td>2.317006</td>\n",
       "      <td>1.457943</td>\n",
       "      <td>39.69</td>\n",
       "      <td>1.76</td>\n",
       "      <td>3.98872</td>\n",
       "      <td>3.3101</td>\n",
       "    </tr>\n",
       "  </tbody>\n",
       "</table>\n",
       "</div>"
      ],
      "text/plain": [
       "               USD       GBP       EUR    VIX  USDi     GBPi    EURi\n",
       "Date                                                                \n",
       "2002-04-30  1.6216  2.361860  1.459764  21.91  1.87  4.17319  3.4069\n",
       "2002-05-31  1.5693  2.295101  1.465569  19.98  1.82  4.15370  3.4671\n",
       "2002-06-30  1.4920  2.274554  1.470515  25.40  1.81  4.17758  3.4640\n",
       "2002-07-31  1.4833  2.317656  1.453041  32.03  1.79  4.06054  3.4100\n",
       "2002-08-31  1.5007  2.322483  1.471586  32.64  1.73  3.98654  3.3519\n",
       "2002-09-30  1.4758  2.317006  1.457943  39.69  1.76  3.98872  3.3101"
      ]
     },
     "execution_count": 29,
     "metadata": {},
     "output_type": "execute_result"
    }
   ],
   "source": [
    "df = pd.read_csv('data/processed/monthly_data.csv')\n",
    "\n",
    "# Standardize data handling with pandas Timestamp\n",
    "df['Date'] = df['Date'].map(lambda x: pd.Timestamp(x))\n",
    "df.set_index('Date', inplace=True)\n",
    "\n",
    "# Visualize the requested data\n",
    "df.head(6)[['USD', 'GBP', 'EUR', 'VIX', 'USDi', 'GBPi', 'EURi']]"
   ]
  },
  {
   "cell_type": "markdown",
   "metadata": {},
   "source": [
    "## Analysis\n",
    "\n",
    "### FX rates in CHF\n",
    "\n",
    "The following plot reproduces the FX rates for the specified countries list:"
   ]
  },
  {
   "cell_type": "markdown",
   "metadata": {},
   "source": [
    "import src.analysis.performances as plot"
   ]
  },
  {
   "cell_type": "markdown",
   "metadata": {},
   "source": [
    "## LaTeX\n",
    "\n",
    "Now, let's go through the compiling process of the LaTeX file into a pdf:"
   ]
  },
  {
   "cell_type": "code",
   "execution_count": 31,
   "metadata": {},
   "outputs": [],
   "source": [
    "import subprocess\n",
    "\n",
    "def compile_latex(file_path):\n",
    "    try:\n",
    "        # Run pdflatex to compile the LaTeX file\n",
    "        subprocess.run(['pdflatex', file_path])\n",
    "\n",
    "        # Additional runs to resolve references (if needed)\n",
    "        subprocess.run(['pdflatex', file_path])\n",
    "        subprocess.run(['pdflatex', file_path])\n",
    "\n",
    "        print(\"Compilation successful.\")\n",
    "    except subprocess.CalledProcessError as e:\n",
    "        print(f\"Compilation failed. Error code: {e.returncode}\")\n",
    "\n",
    "# Example usage\n",
    "latex_file_path = 'latex/paper/Currency_risks_for_Swiss_investors.tex'\n",
    "compile_latex(latex_file_path)\n"
   ]
  }
 ],
 "metadata": {
  "kernelspec": {
   "display_name": "venv",
   "language": "python",
   "name": "python3"
  },
  "language_info": {
   "codemirror_mode": {
    "name": "ipython",
    "version": 3
   },
   "file_extension": ".py",
   "mimetype": "text/x-python",
   "name": "python",
   "nbconvert_exporter": "python",
   "pygments_lexer": "ipython3",
   "version": "3.10.13"
  }
 },
 "nbformat": 4,
 "nbformat_minor": 2
}
