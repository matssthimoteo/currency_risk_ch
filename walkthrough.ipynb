{
 "cells": [
  {
   "cell_type": "markdown",
   "metadata": {},
   "source": [
    "# Currency risks for Swiss residents\n"
   ]
  },
  {
   "cell_type": "markdown",
   "metadata": {},
   "source": [
    "## CMD: A Short Summary\n",
    "\n",
    "If one wants to easily replicate the main findings of this paper, they might execute the command lines below (from the root folder). Later, we'll explore each part in further detail and explore the more nuanced analysis allowed by our implementations."
   ]
  },
  {
   "cell_type": "code",
   "execution_count": null,
   "metadata": {
    "vscode": {
     "languageId": "bat"
    }
   },
   "outputs": [],
   "source": [
    ":: Setup\n",
    "setup.bat\n",
    "\n",
    ":: Data retrieval and processing\n",
    "python src/data/fred_data_retrieval.py\n",
    "python src/data/oecd_data_retrieval.py\n",
    "python src/data/fred_oecd_data_concatenation.py\n",
    "\n",
    ":: Analysis, modeling and reporting\n",
    "Rscript src/models/CODE_FAMA_CURRENCY.R\n",
    "python src/analysis/performances.py\n",
    "\n",
    ":: LaTeX files compiling"
   ]
  },
  {
   "cell_type": "markdown",
   "metadata": {},
   "source": [
    "## Data retrieval\n",
    "\n",
    "We use FRED to gather ForEx and VIX monthly data through FRED's API. We additionally gather German and Italian 10y-bond yields.\n",
    "\n",
    "We obtain short-term interest rates through an html request to the OECD database.\n",
    "\n",
    "CAUTION: OECD data for Japan (JPY) is available only since April 2002. Thus, it's not recommended to use a start date previous to this one.\n",
    "\n",
    "### FRED"
   ]
  },
  {
   "cell_type": "code",
   "execution_count": 14,
   "metadata": {},
   "outputs": [],
   "source": [
    "import pandas as pd\n",
    "import src.data.fred_data_retrieval as fred\n",
    "\n",
    "# Define a time horizon\n",
    "start_date = pd.Timestamp('2002-04-01')\n",
    "end_date = pd.Timestamp('2023-10-31')\n",
    "\n",
    "# Enter FRED API key\n",
    "api_key = '41641234dac871704cd09b2b8dd163ac'\n",
    "\n",
    "# Call to download function\n",
    "fred.download(start_date=start_date,\n",
    "              end_date=end_date,\n",
    "              api_key=api_key)\n"
   ]
  },
  {
   "cell_type": "markdown",
   "metadata": {},
   "source": [
    "### OECD"
   ]
  },
  {
   "cell_type": "code",
   "execution_count": null,
   "metadata": {},
   "outputs": [],
   "source": [
    "import src.data.oecd_data_retrieval as oecd\n",
    "\n",
    "oecd.download(start_date=start_date,\n",
    "              end_date=end_date)"
   ]
  },
  {
   "cell_type": "markdown",
   "metadata": {},
   "source": [
    "### Merge"
   ]
  },
  {
   "cell_type": "code",
   "execution_count": 16,
   "metadata": {},
   "outputs": [],
   "source": [
    "import src.data.fred_oecd_data_concatenation as merge\n",
    "merge.merge()"
   ]
  },
  {
   "cell_type": "markdown",
   "metadata": {},
   "source": [
    "### Load data\n",
    "\n",
    "Now, we'll open the downloaded monthly data at a pandas Data Frame:"
   ]
  },
  {
   "cell_type": "code",
   "execution_count": null,
   "metadata": {},
   "outputs": [],
   "source": [
    "df = pd.read_csv('data/processed/monthly_data.csv')\n",
    "\n",
    "# Standardize data handling with pandas Timestamp\n",
    "df['Date'] = df['Date'].map(lambda x: pd.Timestamp(x))\n",
    "df.set_index('Date', inplace=True)\n",
    "\n",
    "# Visualize the requested data\n",
    "df.head(6)[['USD', 'GBP', 'EUR', 'VIX', 'USDi', 'GBPi', 'EURi']]"
   ]
  },
  {
   "cell_type": "markdown",
   "metadata": {},
   "source": [
    "## Analysis\n",
    "\n",
    "### Regression results\n",
    "We use R to compute the (log) forward rates and returns, and subsequently perform the linear regression in analysis.\n",
    "\n",
    "The following command line reproduces the regression and publishes the results onto the LaTeX report, accessible at latex/paper."
   ]
  },
  {
   "cell_type": "code",
   "execution_count": null,
   "metadata": {},
   "outputs": [],
   "source": [
    "!Rscript src/models/CODE_FAMA_CURRENCY.R "
   ]
  },
  {
   "cell_type": "markdown",
   "metadata": {},
   "source": [
    "### FX rates in CHF\n",
    "\n",
    "The following plot reproduces the FX rates for the specified countries list:"
   ]
  },
  {
   "cell_type": "code",
   "execution_count": 12,
   "metadata": {},
   "outputs": [],
   "source": [
    "import src.analysis.performances as plot\n",
    "\n",
    "currencies_list = ['USD', 'GBP', 'JPY']\n",
    "df2 = plot.build_df(currencies_list)\n",
    "returns = plot.compute_returns(df2, currencies_list=currencies_list)"
   ]
  },
  {
   "cell_type": "code",
   "execution_count": null,
   "metadata": {},
   "outputs": [],
   "source": [
    "plot.plot_performances(returns)"
   ]
  },
  {
   "cell_type": "markdown",
   "metadata": {},
   "source": [
    "### Excess returns on Carry FX strategy\n",
    "\n",
    "We also analyze the profitability and risks associated with investing in the short-term rates in each of the other G-10 currencies, from the standpoint of a Swiss investor."
   ]
  },
  {
   "cell_type": "code",
   "execution_count": null,
   "metadata": {},
   "outputs": [],
   "source": [
    "carry_fx_xs_returns = plot.compute_carry_fx_xs_returns(df2, currencies_list=currencies_list)\n",
    "plot.plot_performances(carry_fx_xs_returns)"
   ]
  },
  {
   "cell_type": "markdown",
   "metadata": {},
   "source": [
    "### Performance indicators\n",
    "\n",
    "For each of the considered strategies, one might compute historical performance measures such as the Sharpe ratio, the average annualized return and the average and maximum drawdowns through the following code. It's also possible to make drawdown plots, histograms of returns and autocorrelation bar plots."
   ]
  },
  {
   "cell_type": "code",
   "execution_count": null,
   "metadata": {},
   "outputs": [],
   "source": [
    "plot.plot_return_histograms(returns, currencies_list=currencies_list)\n",
    "plot.plot_return_histograms(carry_fx_xs_returns, currencies_list=currencies_list)\n",
    "\n",
    "plot.plot_autocorrelations(carry_fx_xs_returns, currencies_list=currencies_list)"
   ]
  },
  {
   "cell_type": "markdown",
   "metadata": {},
   "source": [
    "### EU risk factor: DE-IT 10y Spread\n",
    "\n",
    "The following is an indicator to be used in a robustness check of our results; it's a measure of the European risk."
   ]
  },
  {
   "cell_type": "code",
   "execution_count": null,
   "metadata": {},
   "outputs": [],
   "source": [
    "import matplotlib.pyplot as plt\n",
    "plt.figure()\n",
    "df['IT_minus_DE'].plot(xlabel='Time',\n",
    "                       ylabel='pp',\n",
    "                       title='IT-DE 10-year bond spread')\n",
    "plt.savefig('latex/figures/it_de_spread.jpg')"
   ]
  },
  {
   "cell_type": "markdown",
   "metadata": {},
   "source": [
    "## LaTeX\n",
    "\n",
    "Now, let's go through the compiling process of the LaTeX file into a pdf:"
   ]
  },
  {
   "cell_type": "code",
   "execution_count": null,
   "metadata": {},
   "outputs": [],
   "source": []
  }
 ],
 "metadata": {
  "kernelspec": {
   "display_name": "venv",
   "language": "python",
   "name": "python3"
  },
  "language_info": {
   "codemirror_mode": {
    "name": "ipython",
    "version": 3
   },
   "file_extension": ".py",
   "mimetype": "text/x-python",
   "name": "python",
   "nbconvert_exporter": "python",
   "pygments_lexer": "ipython3",
   "version": "3.10.13"
  }
 },
 "nbformat": 4,
 "nbformat_minor": 2
}
