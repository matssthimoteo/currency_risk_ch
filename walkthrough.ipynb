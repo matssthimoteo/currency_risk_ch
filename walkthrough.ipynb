{
 "cells": [
  {
   "cell_type": "markdown",
   "metadata": {},
   "source": [
    "# Currency risks for Swiss residents\n"
   ]
  },
  {
   "cell_type": "markdown",
   "metadata": {},
   "source": [
    "## CMD: A Short Summary\n",
    "\n",
    "If one wants to easily replicate the main findings of this paper, they might execute the command lines below (from the root folder). Later, we'll explore each part in further detail and explore the more nuanced analysis allowed by our implementations."
   ]
  },
  {
   "cell_type": "code",
   "execution_count": null,
   "metadata": {
    "vscode": {
     "languageId": "bat"
    }
   },
   "outputs": [],
   "source": [
    ":: Setup\n",
    "setup.bat\n",
    "\n",
    ":: Data retrieval and processing\n",
    "python src/data/fred_data_retrieval.py\n",
    "python src/data/oecd_data_retrieval.py\n",
    "python src/data/fred_oecd_data_concatenation.py\n",
    "\n",
    ":: Analysis, modeling and reporting\n",
    "Rscript src/models/CODE_FAMA_CURRENCY.R\n",
    "python src/analysis/performances.py\n",
    "\n",
    ":: LaTeX files compiling"
   ]
  },
  {
   "cell_type": "markdown",
   "metadata": {},
   "source": [
    "## Data retrieval\n",
    "\n",
    "We use FRED to gather ForEx and VIX monthly data through FRED's API. We additionally gather German and Italian 10y-bond yields.\n",
    "\n",
    "We obtain short-term interest rates through an html request to the OECD database.\n",
    "\n",
    "CAUTION: OECD data for Japan (JPY) is available only since April 2002. Thus, it's not recommended to use a start date previous to this one.\n",
    "\n",
    "### FRED"
   ]
  },
  {
   "cell_type": "code",
   "execution_count": null,
   "metadata": {},
   "outputs": [],
   "source": [
    "import pandas as pd\n",
    "import src.data.fred_data_retrieval as fred\n",
    "\n",
    "# Define a time horizon\n",
    "start_date = pd.Timestamp('2002-04-01')\n",
    "end_date = pd.Timestamp('2023-10-31')\n",
    "\n",
    "# Enter FRED API key\n",
    "api_key = '41641234dac871704cd09b2b8dd163ac'\n",
    "\n",
    "# Call to download function\n",
    "fred.download(start_date=start_date,\n",
    "              end_date=end_date,\n",
    "              api_key=api_key)\n"
   ]
  },
  {
   "cell_type": "markdown",
   "metadata": {},
   "source": [
    "### OECD"
   ]
  },
  {
   "cell_type": "code",
   "execution_count": null,
   "metadata": {},
   "outputs": [],
   "source": [
    "import src.data.oecd_data_retrieval as oecd\n",
    "\n",
    "oecd.download(start_date=start_date,\n",
    "              end_date=end_date)"
   ]
  },
  {
   "cell_type": "markdown",
   "metadata": {},
   "source": [
    "### Merge"
   ]
  },
  {
   "cell_type": "code",
   "execution_count": null,
   "metadata": {},
   "outputs": [],
   "source": [
    "import src.data.fred_oecd_data_concatenation as merge\n",
    "merge.merge()"
   ]
  },
  {
   "cell_type": "markdown",
   "metadata": {},
   "source": [
    "### Load data\n",
    "\n",
    "Now, we'll open the downloaded monthly data at a pandas Data Frame:"
   ]
  },
  {
   "cell_type": "code",
   "execution_count": null,
   "metadata": {},
   "outputs": [],
   "source": [
    "df = pd.read_csv('data/processed/monthly_data.csv')\n",
    "\n",
    "# Standardize data handling with pandas Timestamp\n",
    "df['Date'] = df['Date'].map(lambda x: pd.Timestamp(x))\n",
    "df.set_index('Date', inplace=True)\n",
    "\n",
    "# Visualize the requested data\n",
    "df.head(6)[['USD', 'GBP', 'EUR', 'VIX', 'USDi', 'GBPi', 'EURi', 'IT_minus_DE']]"
   ]
  },
  {
   "cell_type": "markdown",
   "metadata": {},
   "source": [
    "## Analysis\n",
    "\n",
    "### Regression results\n",
    "We use R to compute the (log) forward rates and returns, and subsequently perform the linear regression in analysis.\n",
    "\n",
    "The following command line reproduces the regression and publishes the results onto the LaTeX report, accessible at latex/paper."
   ]
  },
  {
   "cell_type": "markdown",
   "metadata": {},
   "source": [
    "### Installing IRkernel on the JupyterNotebook\n",
    "\n",
    "\n",
    "First need to install and load the interactive kernel, in order to run code. In order to use the R code into the jupiterNotebook use the commande %%R."
   ]
  },
  {
   "cell_type": "code",
   "execution_count": null,
   "metadata": {
    "scrolled": false
   },
   "outputs": [],
   "source": [
    "!pip install rpy2 -q\n"
   ]
  },
  {
   "cell_type": "code",
   "execution_count": null,
   "metadata": {},
   "outputs": [],
   "source": [
    "%load_ext rpy2.ipython"
   ]
  },
  {
   "cell_type": "code",
   "execution_count": null,
   "metadata": {},
   "outputs": [],
   "source": [
    "%%R\n",
    "source(\"src/models/CODE_FAMA_CURRENCY.R\")"
   ]
  },
  {
   "cell_type": "code",
   "execution_count": null,
   "metadata": {
    "scrolled": true
   },
   "outputs": [],
   "source": [
    "%%R\n",
    "str(monthly_data)"
   ]
  },
  {
   "cell_type": "markdown",
   "metadata": {},
   "source": [
    "With the str() command we can check all the variables, and source() allows use to make sure that we use the right folder. "
   ]
  },
  {
   "cell_type": "markdown",
   "metadata": {},
   "source": [
    "### Printing the regression results\n",
    "\n",
    "The regression contains the coefficients for each parameters and the Durwin-Watson test. \n"
   ]
  },
  {
   "cell_type": "code",
   "execution_count": null,
   "metadata": {},
   "outputs": [],
   "source": [
    "%%R\n",
    "\n",
    "print(regression_results)"
   ]
  },
  {
   "cell_type": "markdown",
   "metadata": {},
   "source": [
    "The table provides an overview for the coefficient without the significance."
   ]
  },
  {
   "cell_type": "code",
   "execution_count": null,
   "metadata": {
    "scrolled": true
   },
   "outputs": [],
   "source": [
    "%%R\n",
    "\n",
    "\n",
    "print(dw_tests)\n"
   ]
  },
  {
   "cell_type": "markdown",
   "metadata": {},
   "source": [
    "The Durbin-Watson test is great to check autocorrelation on the residuals of regressions. If the results are not significant, then there is no evidence for a \"missing\", non-explained autocorrelation in such data."
   ]
  },
  {
   "cell_type": "markdown",
   "metadata": {},
   "source": [
    "### Robustness test\n",
    "Including the IT-DE spread into the regression:"
   ]
  },
  {
   "cell_type": "markdown",
   "metadata": {},
   "source": [
    "First, let's plot such spread in the time frame in analysis:"
   ]
  },
  {
   "cell_type": "code",
   "execution_count": null,
   "metadata": {},
   "outputs": [],
   "source": [
    "import matplotlib.pyplot as plt\n",
    "plt.figure()\n",
    "df['IT_minus_DE'].plot(xlabel='Time',\n",
    "                       ylabel='pp',\n",
    "                       title='IT-DE 10-year bond spread')\n",
    "plt.savefig('latex/figures/it_de_spread.jpg')"
   ]
  },
  {
   "cell_type": "code",
   "execution_count": null,
   "metadata": {},
   "outputs": [],
   "source": [
    "%%R\n",
    "stargazer(models_list_Robust1, align = TRUE, type = \"text\", out = \"latex/tables/regression_table_EUR_USD_JPY_R.tex\")\n"
   ]
  },
  {
   "cell_type": "code",
   "execution_count": null,
   "metadata": {
    "scrolled": true
   },
   "outputs": [],
   "source": [
    "%%R\n",
    "stargazer(models_list_Robust2, align = TRUE, type = \"text\", out = \"latex/tables/regression_table_GBP_AUD_CAD_R.tex\")\n"
   ]
  },
  {
   "cell_type": "code",
   "execution_count": null,
   "metadata": {
    "scrolled": false
   },
   "outputs": [],
   "source": [
    "%%R\n",
    "stargazer(models_list_Robust3, align = TRUE, type = \"text\", out = \"latex/tables/regression_table_NZD_SEK_NOK_R.tex\")\n"
   ]
  },
  {
   "cell_type": "markdown",
   "metadata": {},
   "source": [
    "TED spread robustness check"
   ]
  },
  {
   "cell_type": "code",
   "execution_count": null,
   "metadata": {},
   "outputs": [],
   "source": [
    "%%R\n",
    "stargazer(models_list_RobustTED1, align = TRUE, type = \"text\", out = \"latex/tables/regression_table_EUR_USD_JPY_R.tex\")\n"
   ]
  },
  {
   "cell_type": "code",
   "execution_count": null,
   "metadata": {},
   "outputs": [],
   "source": [
    "%%R\n",
    "stargazer(models_list_RobustTED2, align = TRUE, type = \"text\", out = \"latex/tables/regression_table_GBP_AUD_CAD_RTED.tex\")\n"
   ]
  },
  {
   "cell_type": "code",
   "execution_count": null,
   "metadata": {},
   "outputs": [],
   "source": [
    "%%R\n",
    "stargazer(models_list_RobustTED3, align = TRUE, type = \"text\", out = \"latex/tables/regression_table_NZD_SEK_NOK_RTED.tex\")\n"
   ]
  },
  {
   "cell_type": "markdown",
   "metadata": {},
   "source": [
    "### FX rates in CHF\n",
    "\n",
    "The following plot reproduces the FX rates for the specified countries list:"
   ]
  },
  {
   "cell_type": "code",
   "execution_count": null,
   "metadata": {},
   "outputs": [],
   "source": [
    "import src.analysis.performances as perf\n",
    "\n",
    "currencies_list = ['USD', 'CAD', 'GBP', 'EUR', 'AUD', 'NZD', 'JPY', 'NOK', 'SEK']\n",
    "currencies_sublist = ['USD', 'GBP', 'JPY']\n",
    "df2 = perf.build_df(currencies_list)\n",
    "returns = perf.compute_returns(df2, currencies_list=currencies_list)"
   ]
  },
  {
   "cell_type": "code",
   "execution_count": null,
   "metadata": {},
   "outputs": [],
   "source": [
    "perf.plot_performances(returns)"
   ]
  },
  {
   "cell_type": "markdown",
   "metadata": {},
   "source": [
    "### Excess returns on Carry FX strategy\n",
    "\n",
    "We also analyze the profitability and risks associated with investing in the short-term rates in each of the other G-10 currencies, from the standpoint of a Swiss investor."
   ]
  },
  {
   "cell_type": "code",
   "execution_count": null,
   "metadata": {},
   "outputs": [],
   "source": [
    "carry_fx_xs_returns = perf.compute_carry_fx_xs_returns(df2, currencies_list=currencies_list)\n",
    "perf.plot_performances(carry_fx_xs_returns)"
   ]
  },
  {
   "cell_type": "markdown",
   "metadata": {},
   "source": [
    "### Performance indicators\n",
    "\n",
    "For each of the considered strategies, one might compute historical performance measures such as the Sharpe ratio, the average annualized return and the average and maximum drawdowns through the following code. It's also possible to make drawdown plots, histograms of returns and autocorrelation bar plots."
   ]
  },
  {
   "cell_type": "code",
   "execution_count": null,
   "metadata": {},
   "outputs": [],
   "source": [
    "perf.plot_return_histograms(returns, currencies_list=currencies_sublist)\n",
    "perf.plot_return_histograms(carry_fx_xs_returns, currencies_list=currencies_sublist)\n",
    "\n",
    "perf.plot_autocorrelations(carry_fx_xs_returns[currencies_sublist], currencies_list=currencies_sublist)"
   ]
  },
  {
   "cell_type": "markdown",
   "metadata": {},
   "source": [
    "We've just verified that autocorrelations are negative for a 1-month horizon, for the three countries. Let's analyze this further."
   ]
  },
  {
   "cell_type": "code",
   "execution_count": null,
   "metadata": {},
   "outputs": [],
   "source": [
    "corr = perf.get_autocorrelations(excess_returns=carry_fx_xs_returns[:2018-12-31], currencies_list=currencies_list)\n",
    "corr"
   ]
  },
  {
   "cell_type": "code",
   "execution_count": null,
   "metadata": {},
   "outputs": [],
   "source": [
    "# Visualization of lag-1 autocorrelations\n",
    "import matplotlib.pyplot as plt\n",
    "plt.bar(corr.columns, corr.loc[1]); plt.title('1-month FX autocorrelations'); plt.show()"
   ]
  },
  {
   "cell_type": "code",
   "execution_count": null,
   "metadata": {},
   "outputs": [],
   "source": [
    "# Visualization of mean-reversion persistence\n",
    "corr.mean(1).cumsum().plot()\n",
    "plt.title('Average cumsum of autocorrelations over G10 currencies')\n",
    "plt.xlabel('Lag (months)')\n",
    "plt.ylabel('corr')\n",
    "plt.show()"
   ]
  },
  {
   "cell_type": "markdown",
   "metadata": {},
   "source": [
    "The results above lead us to considering the evaluation of a mean-reversion FX strategy. We weight each currency proportionally to its autocorrelation."
   ]
  },
  {
   "cell_type": "code",
   "execution_count": null,
   "metadata": {},
   "outputs": [],
   "source": [
    "positions = ((1 - 2 * (carry_fx_xs_returns>0)).shift() * (-corr.loc[1]))\n",
    "positions"
   ]
  },
  {
   "cell_type": "code",
   "execution_count": null,
   "metadata": {},
   "outputs": [],
   "source": [
    "mean_reversion_returns = ((2* (carry_fx_xs_returns>0) - 1).shift() * corr.loc[1]) * carry_fx_xs_returns"
   ]
  },
  {
   "cell_type": "code",
   "execution_count": null,
   "metadata": {},
   "outputs": [],
   "source": [
    "# Histogram of returns\n",
    "mean_reversion_returns.sum(1).hist(bins=25)\n",
    "plt.xlabel('return')\n",
    "plt.ylabel('frequency')\n",
    "plt.show()"
   ]
  },
  {
   "cell_type": "code",
   "execution_count": null,
   "metadata": {},
   "outputs": [],
   "source": [
    "(mean_reversion_returns.sum(1)+1).cumprod().plot()\n",
    "plt.title('Mean Reversion: Performance')\n",
    "plt.show()"
   ]
  },
  {
   "cell_type": "markdown",
   "metadata": {},
   "source": [
    "Computing the strategy's Sharpe ratio:"
   ]
  },
  {
   "cell_type": "code",
   "execution_count": null,
   "metadata": {},
   "outputs": [],
   "source": [
    "print(f'Sharpe: {perf.sharpe(mean_reversion_returns.sum(1))}')"
   ]
  },
  {
   "cell_type": "markdown",
   "metadata": {},
   "source": [
    "Additionally, let's compute the Sharpe Ratios on the Carry FX strategies over the G10 currencies:"
   ]
  },
  {
   "cell_type": "code",
   "execution_count": null,
   "metadata": {},
   "outputs": [],
   "source": [
    "plt.bar(perf.sharpe(carry_fx_xs_returns).sort_values().index,\n",
    "        perf.sharpe(carry_fx_xs_returns).sort_values())\n",
    "plt.title('Sharpe ratio on Carry FX strategy')\n",
    "plt.xlabel('Currency')\n",
    "plt.ylabel('Sharpe')\n",
    "plt.show()"
   ]
  },
  {
   "cell_type": "markdown",
   "metadata": {},
   "source": [
    "### Covariance Matrix\n",
    "We find out that the AFX values from the regression roughly match, in their order, the principal component of the empirical covariance matrix.\n",
    "The code below computes and displays such component."
   ]
  },
  {
   "cell_type": "code",
   "execution_count": null,
   "metadata": {},
   "outputs": [],
   "source": [
    "# Eigenvalues\n",
    "import numpy as np\n",
    "np.linalg.eig(perf.get_correlation_matrix(carry_fx_xs_returns,\n",
    "                      currencies_list=['USD', 'CAD', 'GBP', 'EUR', 'AUD', 'NZD', 'JPY', 'NOK', 'SEK']))[0]"
   ]
  },
  {
   "cell_type": "code",
   "execution_count": null,
   "metadata": {},
   "outputs": [],
   "source": [
    "perf.plot_eigenvector_components(perf.get_correlation_matrix(carry_fx_xs_returns,\n",
    "                                 currencies_list=currencies_list),\n",
    "                                 currencies_list=currencies_list)\n"
   ]
  }
 ],
 "metadata": {
  "kernelspec": {
   "display_name": "Python 3 (ipykernel)",
   "language": "python",
   "name": "python3"
  },
  "language_info": {
   "codemirror_mode": {
    "name": "ipython",
    "version": 3
   },
   "file_extension": ".py",
   "mimetype": "text/x-python",
   "name": "python",
   "nbconvert_exporter": "python",
   "pygments_lexer": "ipython3",
   "version": "3.9.12"
  }
 },
 "nbformat": 4,
 "nbformat_minor": 2
}
